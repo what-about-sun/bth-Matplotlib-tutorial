{
 "cells": [
  {
   "cell_type": "markdown",
   "metadata": {},
   "source": [
    "# ------------------------------------------------------------------------\n",
    "Copyright (c) 2015, Nicolas P. Rougier. All Rights Reserved.\n",
    "Distributed under the (new) BSD License. See LICENSE.txt for more info.\n",
    "# ------------------------------------------------------------------------\n",
    "exercice_20"
   ]
  },
  {
   "cell_type": "markdown",
   "metadata": {},
   "source": [
    "# Grids"
   ]
  },
  {
   "cell_type": "code",
   "execution_count": 1,
   "metadata": {},
   "outputs": [],
   "source": [
    "import numpy as np\n",
    "import matplotlib.pyplot as plt"
   ]
  },
  {
   "cell_type": "code",
   "execution_count": 11,
   "metadata": {},
   "outputs": [
    {
     "data": {
      "image/png": "[encoded data removed]",
      "text/plain": [
       "<Figure size 640x480 with 1 Axes>"
      ]
     },
     "metadata": {},
     "output_type": "display_data"
    }
   ],
   "source": [
    "ax = plt.axes([0.025,0.025,0.95,0.95])\n",
    "\n",
    "ax.set_xlim(0,4)\n",
    "ax.set_ylim(0,3)\n",
    "ax.xaxis.set_major_locator(plt.MultipleLocator(1.0))\n",
    "ax.xaxis.set_minor_locator(plt.MultipleLocator(0.1))\n",
    "ax.yaxis.set_major_locator(plt.MultipleLocator(1.0))\n",
    "ax.yaxis.set_minor_locator(plt.MultipleLocator(0.1))\n",
    "ax.grid(which='major', axis='x', linewidth=0.75, linestyle='-', color='0.75')\n",
    "ax.grid(which='minor', axis='x', linewidth=0.25, linestyle='-', color='0.75')\n",
    "ax.grid(which='major', axis='y', linewidth=0.75, linestyle='-', color='0.75')\n",
    "ax.grid(which='minor', axis='y', linewidth=0.25, linestyle='-', color='0.75')\n",
    "ax.set_xticklabels([])\n",
    "ax.set_yticklabels([])\n",
    "\n",
    "plt.show()\n"
   ]
  },
  {
   "cell_type": "markdown",
   "metadata": {},
   "source": [
    "# some changes"
   ]
  },
  {
   "cell_type": "code",
   "execution_count": 29,
   "metadata": {},
   "outputs": [
    {
     "data": {
      "image/png": "[encoded data removed]",
      "text/plain": [
       "<Figure size 640x480 with 1 Axes>"
      ]
     },
     "metadata": {},
     "output_type": "display_data"
    }
   ],
   "source": [
    "ax = plt.axes([0.025,0.025,0.95,0.95])\n",
    "\n",
    "ax.set_xlim(0,99)\n",
    "ax.set_ylim(0,99)\n",
    "ax.xaxis.set_major_locator(plt.MultipleLocator(66.0))\n",
    "ax.xaxis.set_minor_locator(plt.MultipleLocator(6.0))\n",
    "ax.yaxis.set_major_locator(plt.MultipleLocator(66.0))\n",
    "ax.yaxis.set_minor_locator(plt.MultipleLocator(3.0))\n",
    "ax.grid(which='major', axis='x', linewidth=0.75, linestyle='-', color='.1')\n",
    "ax.grid(which='minor', axis='x', linewidth=.25, linestyle='-', color='0.3')\n",
    "ax.grid(which='major', axis='y', linewidth=0.75, linestyle='-', color='.1')\n",
    "ax.grid(which='minor', axis='y', linewidth=.25, linestyle='-', color='0.7')\n",
    "ax.set_xticklabels([])\n",
    "ax.set_yticklabels([])\n",
    "\n",
    "plt.show()\n"
   ]
  }
 ],
 "metadata": {
  "kernelspec": {
   "display_name": "Python 3",
   "language": "python",
   "name": "python3"
  },
  "language_info": {
   "codemirror_mode": {
    "name": "ipython",
    "version": 3
   },
   "file_extension": ".py",
   "mimetype": "text/x-python",
   "name": "python",
   "nbconvert_exporter": "python",
   "pygments_lexer": "ipython3",
   "version": "3.12.0"
  }
 },
 "nbformat": 4,
 "nbformat_minor": 2
}
